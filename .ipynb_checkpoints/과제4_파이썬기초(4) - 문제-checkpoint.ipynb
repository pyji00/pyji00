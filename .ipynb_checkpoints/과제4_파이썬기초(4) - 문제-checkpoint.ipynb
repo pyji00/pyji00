{
 "cells": [
  {
   "cell_type": "markdown",
   "metadata": {},
   "source": [
    "# 과제4 : 파이썬 기초(4)\n",
    "## 예외처리/내장함수/외장함수\n",
    "### 제출기한 : 9월 30일 월요일 18:59까지"
   ]
  },
  {
   "cell_type": "markdown",
   "metadata": {},
   "source": [
    "### 1. 예외처리"
   ]
  },
  {
   "cell_type": "markdown",
   "metadata": {},
   "source": [
    "다음 빈칸을 채워서 소스 코드를 완성하세요. \n",
    "\n",
    "maria.txt 파일이 있으면 파일의 내용을 읽어서 출력하고, 파일이 없으면 '파일이 없습니다.'를 출력하도록 만드세요. 파일이 없을 때 발생하는 예외는 FileNotFoundError입니다."
   ]
  },
  {
   "cell_type": "markdown",
   "metadata": {},
   "source": [
    "①  ___________   \n",
    "\n",
    "    file = open('maria.txt', 'r')\n",
    "    \n",
    "②  __________________________   \n",
    "\n",
    "    print('파일이 없습니다.')\n",
    "    \n",
    "③  ______   \n",
    "\n",
    "    s = file.read()\n",
    "    \n",
    "    file.close()"
   ]
  },
  {
   "cell_type": "code",
   "execution_count": 1,
   "metadata": {},
   "outputs": [
    {
     "name": "stdout",
     "output_type": "stream",
     "text": [
      "파일이 없습니다.\n"
     ]
    }
   ],
   "source": [
    "try:\n",
    "    file = open('maria.txt', 'r')\n",
    "except FileNotFoundError:\n",
    "    print('파일이 없습니다.')\n",
    "else:\n",
    "    s = file.read()\n",
    "    file.close()"
   ]
  },
  {
   "cell_type": "markdown",
   "metadata": {},
   "source": [
    "### 2. 에러발생시켜보기"
   ]
  },
  {
   "cell_type": "markdown",
   "metadata": {},
   "source": [
    "allowed = ['가위','바위','보'] 리스트에 없는 값을 rsp 함수에 입력했을 때 에러를 발생시키고 적당한 문구를 표시해라"
   ]
  },
  {
   "cell_type": "code",
   "execution_count": 10,
   "metadata": {},
   "outputs": [],
   "source": [
    "def rsp(mine,your):\n",
    "    allowed = ['가위','바위','보']\n",
    "    if mine not in allowed:\n",
    "        raise ValueError\n",
    "    if your not in allowed:\n",
    "        raise ValueError"
   ]
  },
  {
   "cell_type": "code",
   "execution_count": 11,
   "metadata": {},
   "outputs": [
    {
     "name": "stdout",
     "output_type": "stream",
     "text": [
      "잘못된 값을 입력했습니다\n"
     ]
    }
   ],
   "source": [
    "try:\n",
    "    rsp('가위','바')\n",
    "except ValueError:\n",
    "    print('잘못된 값을 입력했습니다')"
   ]
  },
  {
   "cell_type": "markdown",
   "metadata": {},
   "source": [
    "### 4. enumerate와 for문을 이용해 다음 리스트의 홀수 번째 요소만 출력하라."
   ]
  },
  {
   "cell_type": "code",
   "execution_count": 2,
   "metadata": {},
   "outputs": [],
   "source": [
    "ice_cream = ['빠삐코','더위사냥','비비빅','죠스바','누가바']"
   ]
  },
  {
   "cell_type": "code",
   "execution_count": 3,
   "metadata": {},
   "outputs": [
    {
     "name": "stdout",
     "output_type": "stream",
     "text": [
      "빠삐코\n",
      "비비빅\n",
      "누가바\n"
     ]
    }
   ],
   "source": [
    "for i, name in enumerate(ice_cream):\n",
    "    if i%2==0:\n",
    "        print(name)"
   ]
  },
  {
   "cell_type": "markdown",
   "metadata": {},
   "source": [
    "### 5. filter와 lambda를 사용하여 다음 리스트의 요솟값 중 100이하의 수만 가지는 리스트를 만들어라."
   ]
  },
  {
   "cell_type": "code",
   "execution_count": 4,
   "metadata": {},
   "outputs": [],
   "source": [
    "my_list = [93,20,1004,94,104,12]"
   ]
  },
  {
   "cell_type": "code",
   "execution_count": 5,
   "metadata": {},
   "outputs": [
    {
     "data": {
      "text/plain": [
       "[93, 20, 94, 12]"
      ]
     },
     "execution_count": 5,
     "metadata": {},
     "output_type": "execute_result"
    }
   ],
   "source": [
    "list(filter(lambda x : x<=100, my_list))"
   ]
  },
  {
   "cell_type": "markdown",
   "metadata": {},
   "source": [
    "### 6. map과 lambda를 사용하여 [-23,13,-199,-29] 리스트의 각 요솟값의 절댓값을 가지는 리스트를 만들어라."
   ]
  },
  {
   "cell_type": "code",
   "execution_count": 6,
   "metadata": {},
   "outputs": [
    {
     "data": {
      "text/plain": [
       "[23, 13, 199, 29]"
      ]
     },
     "execution_count": 6,
     "metadata": {},
     "output_type": "execute_result"
    }
   ],
   "source": [
    "list(map(lambda x : abs(x),[-23,13,-199,-29]))"
   ]
  },
  {
   "cell_type": "markdown",
   "metadata": {},
   "source": [
    "### 7. 다음과 같은 리스트가 있다. 이 리스트의 개수, 평균, 표준편차, 편차의 평균, 최솟값, 최댓값, 중간값을 구해라."
   ]
  },
  {
   "cell_type": "code",
   "execution_count": 7,
   "metadata": {},
   "outputs": [],
   "source": [
    "my_data=[29,102,38,132,235,23,7,41,31,52,29]"
   ]
  },
  {
   "cell_type": "code",
   "execution_count": 12,
   "metadata": {},
   "outputs": [
    {
     "name": "stdout",
     "output_type": "stream",
     "text": [
      "데이터의 수 :  11\n",
      "평균 :  65.36\n",
      "표준편차 :  64.04\n",
      "편차의 평균 :  49.61983471074381\n",
      "최솟값 :  7\n",
      "최댓값 :  235\n",
      "중간값 :  38\n"
     ]
    }
   ],
   "source": [
    "print(\"데이터의 수 : \",len(my_data))\n",
    "\n",
    "mean=sum(my_data)/len(my_data)\n",
    "print(\"평균 : \",round(mean,2))\n",
    "\n",
    "var=0\n",
    "for i in my_data:\n",
    "    var += (i-mean)**2\n",
    "var = var/len(my_data)\n",
    "\n",
    "std = var**(1/2)\n",
    "\n",
    "vmean = 0\n",
    "for i in my_data:\n",
    "    vmean += abs(i-mean)\n",
    "vmean = vmean/len(my_data)\n",
    "\n",
    "sort = sorted(my_data)\n",
    "if len(my_data)%2 == 1:\n",
    "    median = sort[int((len(sort)-1)/2)]\n",
    "else:\n",
    "    median = (sort[int((len(sort)/2)-1)] + sort[int(len(sort)/2)])/2\n",
    "    \n",
    "print(\"표준편차 : \",round(std,2))\n",
    "print(\"편차의 평균 : \",vmean)\n",
    "print(\"최솟값 : \",min(my_data))\n",
    "print(\"최댓값 : \",max(my_data))\n",
    "print(\"중간값 : \",median)    "
   ]
  },
  {
   "cell_type": "markdown",
   "metadata": {},
   "source": [
    "### 8. 현재 디렉터리 위치를 출력한 후, 바탕화면으로 디렉터리 위치를 변경하라."
   ]
  },
  {
   "cell_type": "code",
   "execution_count": 22,
   "metadata": {},
   "outputs": [
    {
     "ename": "FileNotFoundError",
     "evalue": "[WinError 3] 지정된 경로를 찾을 수 없습니다: 'C:/users/python/Desktop/*csv'",
     "output_type": "error",
     "traceback": [
      "\u001b[1;31m---------------------------------------------------------------------------\u001b[0m",
      "\u001b[1;31mFileNotFoundError\u001b[0m                         Traceback (most recent call last)",
      "\u001b[1;32m<ipython-input-22-c107d1a80438>\u001b[0m in \u001b[0;36m<module>\u001b[1;34m\u001b[0m\n\u001b[0;32m      1\u001b[0m \u001b[1;32mimport\u001b[0m \u001b[0mos\u001b[0m\u001b[1;33m\u001b[0m\u001b[1;33m\u001b[0m\u001b[0m\n\u001b[0;32m      2\u001b[0m \u001b[0mos\u001b[0m\u001b[1;33m.\u001b[0m\u001b[0mgetcwd\u001b[0m\u001b[1;33m(\u001b[0m\u001b[1;33m)\u001b[0m\u001b[1;33m\u001b[0m\u001b[1;33m\u001b[0m\u001b[0m\n\u001b[1;32m----> 3\u001b[1;33m \u001b[0mos\u001b[0m\u001b[1;33m.\u001b[0m\u001b[0mchdir\u001b[0m\u001b[1;33m(\u001b[0m\u001b[1;34m\"C:/users/python/Desktop/*csv\"\u001b[0m\u001b[1;33m)\u001b[0m\u001b[1;33m\u001b[0m\u001b[1;33m\u001b[0m\u001b[0m\n\u001b[0m",
      "\u001b[1;31mFileNotFoundError\u001b[0m: [WinError 3] 지정된 경로를 찾을 수 없습니다: 'C:/users/python/Desktop/*csv'"
     ]
    }
   ],
   "source": [
    "import os\n",
    "os.getcwd()\n",
    "os.chdir(\"C:/users/python/Desktop/*csv\")"
   ]
  },
  {
   "cell_type": "markdown",
   "metadata": {},
   "source": [
    "### 9. 바탕화면에 있는 파일 중 확장자가 csv인 파일을 모두 찾아서 출력하라."
   ]
  },
  {
   "cell_type": "code",
   "execution_count": 21,
   "metadata": {},
   "outputs": [
    {
     "ename": "SyntaxError",
     "evalue": "invalid syntax (<ipython-input-21-5d3a55ad8263>, line 1)",
     "output_type": "error",
     "traceback": [
      "\u001b[1;36m  File \u001b[1;32m\"<ipython-input-21-5d3a55ad8263>\"\u001b[1;36m, line \u001b[1;32m1\u001b[0m\n\u001b[1;33m    impart glob\u001b[0m\n\u001b[1;37m              ^\u001b[0m\n\u001b[1;31mSyntaxError\u001b[0m\u001b[1;31m:\u001b[0m invalid syntax\n"
     ]
    }
   ],
   "source": [
    "impart glob\n",
    "glob.glob(\"c:/Users/python/Desktop/*csv\")"
   ]
  },
  {
   "cell_type": "markdown",
   "metadata": {},
   "source": [
    "### 10. 다음과 같은 리스트가 있다. 이 리스트 중 랜덤으로 30개를 test_set에, 나머지 70개를 train_set에 리스트 형태로 넣어라."
   ]
  },
  {
   "cell_type": "code",
   "execution_count": 16,
   "metadata": {
    "scrolled": true
   },
   "outputs": [
    {
     "name": "stdout",
     "output_type": "stream",
     "text": [
      "[0, 1, 2, 3, 4, 5, 6, 7, 8, 9, 10, 11, 12, 13, 14, 15, 16, 17, 18, 19, 20, 21, 22, 23, 24, 25, 26, 27, 28, 29, 30, 31, 32, 33, 34, 35, 36, 37, 38, 39, 40, 41, 42, 43, 44, 45, 46, 47, 48, 49, 50, 51, 52, 53, 54, 55, 56, 57, 58, 59, 60, 61, 62, 63, 64, 65, 66, 67, 68, 69, 70, 71, 72, 73, 74, 75, 76, 77, 78, 79, 80, 81, 82, 83, 84, 85, 86, 87, 88, 89, 90, 91, 92, 93, 94, 95, 96, 97, 98, 99]\n"
     ]
    }
   ],
   "source": [
    "my_set = list(range(100))\n",
    "print(my_set)"
   ]
  },
  {
   "cell_type": "code",
   "execution_count": 17,
   "metadata": {},
   "outputs": [
    {
     "name": "stdout",
     "output_type": "stream",
     "text": [
      "train_set : [44, 58, 36, 83, 55, 65, 9, 24, 45, 95, 96, 23, 56, 0, 61, 22, 2, 50, 41, 94, 11, 6, 90, 25, 47, 40, 72, 91, 43, 54, 21, 71, 99, 76, 80, 88, 34, 20, 31, 10, 8, 63, 97, 14, 42, 18, 69, 93, 3, 49, 86, 64, 27, 67, 60, 70, 81, 29, 15, 17, 82, 37, 46, 12, 33, 53, 74, 68, 87, 35]\n",
      "test_set :  [77, 51, 92, 84, 26, 73, 38, 5, 30, 66, 48, 4, 75, 39, 62, 1, 79, 28, 32, 7, 98, 13, 85, 89, 19, 59, 16, 78, 57, 52]\n"
     ]
    }
   ],
   "source": [
    "import random\n",
    "random.shuffle(my_set)\n",
    "test_set=my_set[:30]\n",
    "train_set=my_set[30:]\n",
    "print(\"train_set :\", train_set)\n",
    "print(\"test_set : \", test_set)"
   ]
  },
  {
   "cell_type": "code",
   "execution_count": null,
   "metadata": {},
   "outputs": [],
   "source": []
  }
 ],
 "metadata": {
  "kernelspec": {
   "display_name": "Python 3",
   "language": "python",
   "name": "python3"
  },
  "language_info": {
   "codemirror_mode": {
    "name": "ipython",
    "version": 3
   },
   "file_extension": ".py",
   "mimetype": "text/x-python",
   "name": "python",
   "nbconvert_exporter": "python",
   "pygments_lexer": "ipython3",
   "version": "3.7.3"
  }
 },
 "nbformat": 4,
 "nbformat_minor": 2
}
