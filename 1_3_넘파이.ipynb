{
  "cells": [
    {
      "cell_type": "markdown",
      "metadata": {
        "id": "view-in-github",
        "colab_type": "text"
      },
      "source": [
        "<a href=\"https://colab.research.google.com/github/pyji00/pyji00/blob/master/1_3_%EB%84%98%ED%8C%8C%EC%9D%B4.ipynb\" target=\"_parent\"><img src=\"https://colab.research.google.com/assets/colab-badge.svg\" alt=\"Open In Colab\"/></a>"
      ]
    },
    {
      "cell_type": "markdown",
      "metadata": {
        "id": "GYzCB7kI86bv"
      },
      "source": [
        "### Numpy ndarray 개요"
      ]
    },
    {
      "cell_type": "code",
      "execution_count": 1,
      "metadata": {
        "id": "cQApMk__86b3"
      },
      "outputs": [],
      "source": [
        "import numpy as np\n"
      ]
    },
    {
      "cell_type": "code",
      "execution_count": 3,
      "metadata": {
        "colab": {
          "base_uri": "https://localhost:8080/"
        },
        "id": "WpN7WaJY86b4",
        "outputId": "a699a060-7bf7-42c0-fe6f-6f2ad730d7d8"
      },
      "outputs": [
        {
          "output_type": "stream",
          "name": "stdout",
          "text": [
            "array1 type: <class 'numpy.ndarray'>\n",
            "array1 array 형태: (3,)\n",
            "array2 type: <class 'numpy.ndarray'>\n",
            "array2 array 형태: (2, 3)\n",
            "array3 type: <class 'numpy.ndarray'>\n",
            "array3 array 형태: (1, 3)\n"
          ]
        }
      ],
      "source": [
        "array1 = np.array([1,2,3])\n",
        "print('array1 type:',type(array1))\n",
        "print('array1 array 형태:',array1.shape)\n",
        "\n",
        "array2 = np.array([[1,2,3],\n",
        "                  [2,3,4]])\n",
        "print('array2 type:',type(array2))\n",
        "print('array2 array 형태:',array2.shape)\n",
        "\n",
        "array3 = np.array([[1,2,3]])\n",
        "print('array3 type:',type(array3))\n",
        "print('array3 array 형태:',array3.shape)"
      ]
    },
    {
      "cell_type": "code",
      "execution_count": 4,
      "metadata": {
        "colab": {
          "base_uri": "https://localhost:8080/"
        },
        "id": "PVQyLSuZ86b5",
        "outputId": "41b5c27f-5a52-42ce-d485-070811cf8a0f"
      },
      "outputs": [
        {
          "output_type": "stream",
          "name": "stdout",
          "text": [
            "array1: 1차원, array2: 2차원, array3:  2차원\n"
          ]
        }
      ],
      "source": [
        "print('array1: {:0}차원, array2: {:1}차원, array3: {:2}차원'.format(array1.ndim,array2.ndim,array3.ndim))\n"
      ]
    },
    {
      "cell_type": "code",
      "execution_count": 5,
      "metadata": {
        "colab": {
          "base_uri": "https://localhost:8080/"
        },
        "id": "K9l1cmlZ86b5",
        "outputId": "5f8614ff-568f-44f4-bbf8-2e36b0921c5c"
      },
      "outputs": [
        {
          "output_type": "stream",
          "name": "stdout",
          "text": [
            "<class 'list'>\n",
            "<class 'numpy.ndarray'>\n",
            "[1 2 3] int64\n"
          ]
        }
      ],
      "source": [
        "list1 = [1,2,3]\n",
        "print(type(list1))\n",
        "array1 = np.array(list1)\n",
        "print(type(array1))\n",
        "print(array1, array1.dtype)"
      ]
    },
    {
      "cell_type": "code",
      "execution_count": 6,
      "metadata": {
        "colab": {
          "base_uri": "https://localhost:8080/"
        },
        "id": "CG0IyFko86b6",
        "outputId": "7b35e9e8-1102-4bb1-9f97-6c0c627d8de6"
      },
      "outputs": [
        {
          "output_type": "stream",
          "name": "stdout",
          "text": [
            "['1' '2' 'test'] <U21\n",
            "[1. 2. 3.] float64\n"
          ]
        }
      ],
      "source": [
        "list2 = [1, 2, 'test']\n",
        "array2 = np.array(list2)\n",
        "print(array2, array2.dtype)\n",
        "\n",
        "list3 = [1, 2, 3.0]\n",
        "array3 = np.array(list3)\n",
        "print(array3, array3.dtype)"
      ]
    },
    {
      "cell_type": "code",
      "execution_count": 7,
      "metadata": {
        "colab": {
          "base_uri": "https://localhost:8080/"
        },
        "id": "zh23X22R86b7",
        "outputId": "b8339216-91b8-4397-c45e-a44e06a89de2"
      },
      "outputs": [
        {
          "output_type": "stream",
          "name": "stdout",
          "text": [
            "[1. 2. 3.] float64\n",
            "[1 2 3] int32\n",
            "[1 2 3] int32\n"
          ]
        }
      ],
      "source": [
        "array_int = np.array([1, 2, 3])\n",
        "array_float = array_int.astype('float64')\n",
        "print(array_float, array_float.dtype)\n",
        "\n",
        "array_int1= array_float.astype('int32')\n",
        "print(array_int1, array_int1.dtype)\n",
        "\n",
        "array_float1 = np.array([1.1, 2.1, 3.1])\n",
        "array_int2= array_float1.astype('int32')\n",
        "print(array_int2, array_int2.dtype)\n"
      ]
    },
    {
      "cell_type": "markdown",
      "metadata": {
        "id": "Z7Kabl3l86b8"
      },
      "source": [
        "### ndarray를 편리하게 생성하기 - arange, zeros, ones"
      ]
    },
    {
      "cell_type": "code",
      "execution_count": 8,
      "metadata": {
        "colab": {
          "base_uri": "https://localhost:8080/"
        },
        "id": "54HlbOmJ86b8",
        "outputId": "cf428d4f-2406-480c-e734-05f37c6574a6"
      },
      "outputs": [
        {
          "output_type": "stream",
          "name": "stdout",
          "text": [
            "[0 1 2 3 4 5 6 7 8 9]\n",
            "int64 (10,)\n"
          ]
        }
      ],
      "source": [
        "sequence_array = np.arange(10)\n",
        "print(sequence_array)\n",
        "print(sequence_array.dtype, sequence_array.shape)\n",
        "\n"
      ]
    },
    {
      "cell_type": "code",
      "execution_count": 9,
      "metadata": {
        "colab": {
          "base_uri": "https://localhost:8080/"
        },
        "id": "YxqdoSKt86b9",
        "outputId": "d957837f-7b20-4434-be6b-364a6f65784b"
      },
      "outputs": [
        {
          "output_type": "stream",
          "name": "stdout",
          "text": [
            "[[0 0]\n",
            " [0 0]\n",
            " [0 0]]\n",
            "int32 (3, 2)\n",
            "[[1. 1.]\n",
            " [1. 1.]\n",
            " [1. 1.]]\n",
            "float64 (3, 2)\n"
          ]
        }
      ],
      "source": [
        "zero_array = np.zeros((3,2),dtype='int32')\n",
        "print(zero_array)\n",
        "print(zero_array.dtype, zero_array.shape)\n",
        "\n",
        "one_array = np.ones((3,2))\n",
        "print(one_array)\n",
        "print(one_array.dtype, one_array.shape)"
      ]
    },
    {
      "cell_type": "markdown",
      "metadata": {
        "id": "3_3zfvnE86b-"
      },
      "source": [
        "### reshape"
      ]
    },
    {
      "cell_type": "code",
      "execution_count": 10,
      "metadata": {
        "colab": {
          "base_uri": "https://localhost:8080/"
        },
        "id": "Zuy1RyhE86b_",
        "outputId": "4691da3b-4126-4a5a-adb1-f9b379185abb"
      },
      "outputs": [
        {
          "output_type": "stream",
          "name": "stdout",
          "text": [
            "array1:\n",
            " [0 1 2 3 4 5 6 7 8 9]\n",
            "array2:\n",
            " [[0 1 2 3 4]\n",
            " [5 6 7 8 9]]\n",
            "array3:\n",
            " [[0 1]\n",
            " [2 3]\n",
            " [4 5]\n",
            " [6 7]\n",
            " [8 9]]\n"
          ]
        }
      ],
      "source": [
        "array1 = np.arange(10)\n",
        "print('array1:\\n', array1)\n",
        "\n",
        "array2 = array1.reshape(2,5)\n",
        "print('array2:\\n',array2)\n",
        "\n",
        "array3 = array1.reshape(5,2)\n",
        "print('array3:\\n',array3)"
      ]
    },
    {
      "cell_type": "code",
      "execution_count": 11,
      "metadata": {
        "colab": {
          "base_uri": "https://localhost:8080/",
          "height": 164
        },
        "id": "7WGOZp-Z86cA",
        "outputId": "25be3adf-dd8c-49a8-b3e5-e8f989f18e67"
      },
      "outputs": [
        {
          "output_type": "error",
          "ename": "ValueError",
          "evalue": "ignored",
          "traceback": [
            "\u001b[0;31m---------------------------------------------------------------------------\u001b[0m",
            "\u001b[0;31mValueError\u001b[0m                                Traceback (most recent call last)",
            "\u001b[0;32m<ipython-input-11-a40469ec5825>\u001b[0m in \u001b[0;36m<module>\u001b[0;34m\u001b[0m\n\u001b[0;32m----> 1\u001b[0;31m \u001b[0marray1\u001b[0m\u001b[0;34m.\u001b[0m\u001b[0mreshape\u001b[0m\u001b[0;34m(\u001b[0m\u001b[0;36m4\u001b[0m\u001b[0;34m,\u001b[0m\u001b[0;36m3\u001b[0m\u001b[0;34m)\u001b[0m\u001b[0;34m\u001b[0m\u001b[0;34m\u001b[0m\u001b[0m\n\u001b[0m",
            "\u001b[0;31mValueError\u001b[0m: cannot reshape array of size 10 into shape (4,3)"
          ]
        }
      ],
      "source": [
        "array1.reshape(4,3)"
      ]
    },
    {
      "cell_type": "code",
      "execution_count": 12,
      "metadata": {
        "colab": {
          "base_uri": "https://localhost:8080/"
        },
        "id": "WuKVb41H86cB",
        "outputId": "f95e5a4a-4769-4fd9-97b0-d1dc07311b51"
      },
      "outputs": [
        {
          "output_type": "stream",
          "name": "stdout",
          "text": [
            "[0 1 2 3 4 5 6 7 8 9]\n",
            "array2 shape: (2, 5)\n",
            "array3 shape: (5, 2)\n"
          ]
        }
      ],
      "source": [
        "array1 = np.arange(10)\n",
        "print(array1)\n",
        "\n",
        "array2 = array1.reshape(-1,5)\n",
        "print('array2 shape:',array2.shape)\n",
        "\n",
        "array3 = array1.reshape(5,-1)\n",
        "print('array3 shape:',array3.shape)"
      ]
    },
    {
      "cell_type": "code",
      "execution_count": 13,
      "metadata": {
        "colab": {
          "base_uri": "https://localhost:8080/",
          "height": 181
        },
        "id": "3B2pDfTB86cB",
        "outputId": "0df25ed1-e66b-488b-9c28-b305f960801f"
      },
      "outputs": [
        {
          "output_type": "error",
          "ename": "ValueError",
          "evalue": "ignored",
          "traceback": [
            "\u001b[0;31m---------------------------------------------------------------------------\u001b[0m",
            "\u001b[0;31mValueError\u001b[0m                                Traceback (most recent call last)",
            "\u001b[0;32m<ipython-input-13-07da9760475e>\u001b[0m in \u001b[0;36m<module>\u001b[0;34m\u001b[0m\n\u001b[1;32m      1\u001b[0m \u001b[0marray1\u001b[0m \u001b[0;34m=\u001b[0m \u001b[0mnp\u001b[0m\u001b[0;34m.\u001b[0m\u001b[0marange\u001b[0m\u001b[0;34m(\u001b[0m\u001b[0;36m10\u001b[0m\u001b[0;34m)\u001b[0m\u001b[0;34m\u001b[0m\u001b[0;34m\u001b[0m\u001b[0m\n\u001b[0;32m----> 2\u001b[0;31m \u001b[0marray4\u001b[0m \u001b[0;34m=\u001b[0m \u001b[0marray1\u001b[0m\u001b[0;34m.\u001b[0m\u001b[0mreshape\u001b[0m\u001b[0;34m(\u001b[0m\u001b[0;34m-\u001b[0m\u001b[0;36m1\u001b[0m\u001b[0;34m,\u001b[0m\u001b[0;36m4\u001b[0m\u001b[0;34m)\u001b[0m\u001b[0;34m\u001b[0m\u001b[0;34m\u001b[0m\u001b[0m\n\u001b[0m",
            "\u001b[0;31mValueError\u001b[0m: cannot reshape array of size 10 into shape (4)"
          ]
        }
      ],
      "source": [
        "array1 = np.arange(10)\n",
        "array4 = array1.reshape(-1,4)"
      ]
    },
    {
      "cell_type": "code",
      "execution_count": 14,
      "metadata": {
        "colab": {
          "base_uri": "https://localhost:8080/"
        },
        "id": "mtkqnGen86cC",
        "outputId": "de95fee1-14ba-4bfc-93c4-f7b92c8df52f"
      },
      "outputs": [
        {
          "output_type": "stream",
          "name": "stdout",
          "text": [
            "array3d:\n",
            " [[[0, 1], [2, 3]], [[4, 5], [6, 7]]]\n",
            "array5:\n",
            " [[0], [1], [2], [3], [4], [5], [6], [7]]\n",
            "array5 shape: (8, 1)\n",
            "array6:\n",
            " [[0], [1], [2], [3], [4], [5], [6], [7]]\n",
            "array6 shape: (8, 1)\n"
          ]
        }
      ],
      "source": [
        "array1 = np.arange(8)\n",
        "array3d = array1.reshape((2,2,2))\n",
        "print('array3d:\\n',array3d.tolist())\n",
        "\n",
        "# 3차원 ndarray를 2차원 ndarray로 변환\n",
        "array5 = array3d.reshape(-1,1)\n",
        "print('array5:\\n',array5.tolist())\n",
        "print('array5 shape:',array5.shape)\n",
        "\n",
        "# 1차원 ndarray를 2차원 ndarray로 변환\n",
        "array6 = array1.reshape(-1,1)\n",
        "print('array6:\\n',array6.tolist())\n",
        "print('array6 shape:',array6.shape)"
      ]
    },
    {
      "cell_type": "markdown",
      "metadata": {
        "id": "xwl0qAu_86cD"
      },
      "source": [
        "### indexing"
      ]
    },
    {
      "cell_type": "markdown",
      "metadata": {
        "id": "XSQtGHEH86cD"
      },
      "source": [
        "* 단일값 추출"
      ]
    },
    {
      "cell_type": "code",
      "execution_count": 16,
      "metadata": {
        "colab": {
          "base_uri": "https://localhost:8080/"
        },
        "id": "EG5KpKKs86cE",
        "outputId": "f23f0e81-b8bd-4a93-ce67-fbcd77dd1d19"
      },
      "outputs": [
        {
          "output_type": "stream",
          "name": "stdout",
          "text": [
            "array1: [1 2 3 4 5 6 7 8 9]\n",
            "value: 3\n",
            "<class 'numpy.int64'>\n"
          ]
        }
      ],
      "source": [
        "# 1에서 부터 9 까지의 1차원 ndarray 생성 \n",
        "array1 = np.arange(start=1, stop=10)\n",
        "print('array1:',array1)\n",
        "# index는 0 부터 시작하므로 array1[2]는 3번째 index 위치의 데이터 값을 의미\n",
        "value = array1[2]\n",
        "print('value:',value)\n",
        "print(type(value))"
      ]
    },
    {
      "cell_type": "code",
      "execution_count": 17,
      "metadata": {
        "colab": {
          "base_uri": "https://localhost:8080/"
        },
        "id": "v2aQVpc486cE",
        "outputId": "89843cbf-e4fd-4790-ccb0-90e6b38ead52"
      },
      "outputs": [
        {
          "output_type": "stream",
          "name": "stdout",
          "text": [
            "맨 뒤의 값: 9 , 맨 뒤에서 두번째 값: 8\n"
          ]
        }
      ],
      "source": [
        "print('맨 뒤의 값:',array1[-1], ', 맨 뒤에서 두번째 값:',array1[-2])"
      ]
    },
    {
      "cell_type": "code",
      "execution_count": 18,
      "metadata": {
        "colab": {
          "base_uri": "https://localhost:8080/"
        },
        "id": "dnsR-ZFb86cF",
        "outputId": "ca537efc-1567-4278-f83f-7356ef231add"
      },
      "outputs": [
        {
          "output_type": "stream",
          "name": "stdout",
          "text": [
            "array1: [9 2 3 4 5 6 7 8 0]\n"
          ]
        }
      ],
      "source": [
        "array1[0] = 9\n",
        "array1[8] = 0\n",
        "print('array1:',array1)"
      ]
    },
    {
      "cell_type": "code",
      "execution_count": 19,
      "metadata": {
        "colab": {
          "base_uri": "https://localhost:8080/"
        },
        "id": "Mz49Nr4o86cF",
        "outputId": "99b84e86-29cd-4c20-a8ea-8c9233addc6f"
      },
      "outputs": [
        {
          "output_type": "stream",
          "name": "stdout",
          "text": [
            "[[1 2 3]\n",
            " [4 5 6]\n",
            " [7 8 9]]\n",
            "(row=0,col=0) index 가리키는 값: 1\n",
            "(row=0,col=1) index 가리키는 값: 2\n",
            "(row=1,col=0) index 가리키는 값: 4\n",
            "(row=2,col=2) index 가리키는 값: 9\n"
          ]
        }
      ],
      "source": [
        "array1d = np.arange(start=1, stop=10)\n",
        "array2d = array1d.reshape(3,3)\n",
        "print(array2d)\n",
        "\n",
        "print('(row=0,col=0) index 가리키는 값:', array2d[0,0] )\n",
        "print('(row=0,col=1) index 가리키는 값:', array2d[0,1] )\n",
        "print('(row=1,col=0) index 가리키는 값:', array2d[1,0] )\n",
        "print('(row=2,col=2) index 가리키는 값:', array2d[2,2] )"
      ]
    },
    {
      "cell_type": "markdown",
      "metadata": {
        "id": "TFtKjkEx86cG"
      },
      "source": [
        "* Slicing"
      ]
    },
    {
      "cell_type": "code",
      "execution_count": 20,
      "metadata": {
        "colab": {
          "base_uri": "https://localhost:8080/"
        },
        "id": "lUD8HkDq86cG",
        "outputId": "701c8e97-49e6-4d81-d20a-13f51956041b"
      },
      "outputs": [
        {
          "output_type": "stream",
          "name": "stdout",
          "text": [
            "[1 2 3]\n",
            "<class 'numpy.ndarray'>\n"
          ]
        }
      ],
      "source": [
        "array1 = np.arange(start=1, stop=10)\n",
        "array3 = array1[0:3]\n",
        "print(array3)\n",
        "print(type(array3))"
      ]
    },
    {
      "cell_type": "code",
      "execution_count": 21,
      "metadata": {
        "colab": {
          "base_uri": "https://localhost:8080/"
        },
        "id": "nZI7gMj286cH",
        "outputId": "aac89ebb-a3b1-41d4-8351-4d8c81fdf738"
      },
      "outputs": [
        {
          "output_type": "stream",
          "name": "stdout",
          "text": [
            "[1 2 3]\n",
            "[4 5 6 7 8 9]\n",
            "[1 2 3 4 5 6 7 8 9]\n"
          ]
        }
      ],
      "source": [
        "array1 = np.arange(start=1, stop=10)\n",
        "array4 = array1[:3]\n",
        "print(array4)\n",
        "\n",
        "array5 = array1[3:]\n",
        "print(array5)\n",
        "\n",
        "array6 = array1[:]\n",
        "print(array6)"
      ]
    },
    {
      "cell_type": "code",
      "execution_count": 22,
      "metadata": {
        "colab": {
          "base_uri": "https://localhost:8080/"
        },
        "id": "YHKUEybh86cH",
        "outputId": "f95a85bd-fae6-4fb4-def8-046c75b924c7"
      },
      "outputs": [
        {
          "output_type": "stream",
          "name": "stdout",
          "text": [
            "array2d:\n",
            " [[1 2 3]\n",
            " [4 5 6]\n",
            " [7 8 9]]\n",
            "array2d[0:2, 0:2] \n",
            " [[1 2]\n",
            " [4 5]]\n",
            "array2d[1:3, 0:3] \n",
            " [[4 5 6]\n",
            " [7 8 9]]\n",
            "array2d[1:3, :] \n",
            " [[4 5 6]\n",
            " [7 8 9]]\n",
            "array2d[:, :] \n",
            " [[1 2 3]\n",
            " [4 5 6]\n",
            " [7 8 9]]\n",
            "array2d[:2, 1:] \n",
            " [[2 3]\n",
            " [5 6]]\n",
            "array2d[:2, 0] \n",
            " [1 4]\n"
          ]
        }
      ],
      "source": [
        "array1d = np.arange(start=1, stop=10)\n",
        "array2d = array1d.reshape(3,3)\n",
        "print('array2d:\\n',array2d)\n",
        "\n",
        "print('array2d[0:2, 0:2] \\n', array2d[0:2, 0:2])\n",
        "print('array2d[1:3, 0:3] \\n', array2d[1:3, 0:3])\n",
        "print('array2d[1:3, :] \\n', array2d[1:3, :])\n",
        "print('array2d[:, :] \\n', array2d[:, :])\n",
        "print('array2d[:2, 1:] \\n', array2d[:2, 1:])\n",
        "print('array2d[:2, 0] \\n', array2d[:2, 0])"
      ]
    },
    {
      "cell_type": "code",
      "execution_count": 23,
      "metadata": {
        "colab": {
          "base_uri": "https://localhost:8080/"
        },
        "id": "B872h02J86cI",
        "outputId": "b88b7a15-15ef-4f14-a018-99a216b36caa"
      },
      "outputs": [
        {
          "output_type": "stream",
          "name": "stdout",
          "text": [
            "[1 2 3]\n",
            "[4 5 6]\n",
            "array2d[0] shape: (3,) array2d[1] shape: (3,)\n"
          ]
        }
      ],
      "source": [
        "print(array2d[0])\n",
        "print(array2d[1])\n",
        "print('array2d[0] shape:', array2d[0].shape, 'array2d[1] shape:', array2d[1].shape )"
      ]
    },
    {
      "cell_type": "markdown",
      "metadata": {
        "id": "PNeKP7VG86cI"
      },
      "source": [
        "* fancy indexing"
      ]
    },
    {
      "cell_type": "code",
      "execution_count": 24,
      "metadata": {
        "colab": {
          "base_uri": "https://localhost:8080/"
        },
        "id": "QdhitTyr86cJ",
        "outputId": "b2ac38bd-4d40-4eef-e8a4-0a557fed4e44"
      },
      "outputs": [
        {
          "output_type": "stream",
          "name": "stdout",
          "text": [
            "array2d[[0,1], 2] =>  [3, 6]\n",
            "array2d[[0,1], 0:2] =>  [[1, 2], [4, 5]]\n",
            "array2d[[0,1]] =>  [[1, 2, 3], [4, 5, 6]]\n"
          ]
        }
      ],
      "source": [
        "array1d = np.arange(start=1, stop=10)\n",
        "array2d = array1d.reshape(3,3)\n",
        "\n",
        "array3 = array2d[[0,1], 2]\n",
        "print('array2d[[0,1], 2] => ',array3.tolist())\n",
        "\n",
        "array4 = array2d[[0,1], 0:2]\n",
        "print('array2d[[0,1], 0:2] => ',array4.tolist())\n",
        "\n",
        "array5 = array2d[[0,1]]\n",
        "print('array2d[[0,1]] => ',array5.tolist())"
      ]
    },
    {
      "cell_type": "markdown",
      "metadata": {
        "id": "Y2N1DfMf86cJ"
      },
      "source": [
        "* Boolean indexing"
      ]
    },
    {
      "cell_type": "code",
      "execution_count": 25,
      "metadata": {
        "colab": {
          "base_uri": "https://localhost:8080/"
        },
        "id": "NZnX_frc86cJ",
        "outputId": "b6428d72-ffc4-4319-bbb1-149666136088"
      },
      "outputs": [
        {
          "output_type": "stream",
          "name": "stdout",
          "text": [
            "array1d > 5 불린 인덱싱 결과 값 : [6 7 8 9]\n"
          ]
        }
      ],
      "source": [
        "array1d = np.arange(start=1, stop=10)\n",
        "# [ ] 안에 array1d > 5 Boolean indexing을 적용 \n",
        "array3 = array1d[array1d > 5]\n",
        "print('array1d > 5 불린 인덱싱 결과 값 :', array3)"
      ]
    },
    {
      "cell_type": "code",
      "execution_count": 26,
      "metadata": {
        "colab": {
          "base_uri": "https://localhost:8080/"
        },
        "id": "fxXPvGEp86cK",
        "outputId": "50971344-c4b0-4198-a8ed-c0debb5490e1"
      },
      "outputs": [
        {
          "output_type": "execute_result",
          "data": {
            "text/plain": [
              "array([False, False, False, False, False,  True,  True,  True,  True])"
            ]
          },
          "metadata": {},
          "execution_count": 26
        }
      ],
      "source": [
        "array1d > 5"
      ]
    },
    {
      "cell_type": "code",
      "execution_count": 27,
      "metadata": {
        "colab": {
          "base_uri": "https://localhost:8080/"
        },
        "id": "f4cJJ6xA86cM",
        "outputId": "c35d59c0-1761-4b73-a253-94345591655d"
      },
      "outputs": [
        {
          "output_type": "stream",
          "name": "stdout",
          "text": [
            "불린 인덱스로 필터링 결과 : [6 7 8 9]\n"
          ]
        }
      ],
      "source": [
        "boolean_indexes = np.array([False, False, False, False, False,  True,  True,  True,  True])\n",
        "array3 = array1d[boolean_indexes]\n",
        "print('불린 인덱스로 필터링 결과 :', array3)"
      ]
    },
    {
      "cell_type": "code",
      "execution_count": 28,
      "metadata": {
        "colab": {
          "base_uri": "https://localhost:8080/"
        },
        "id": "wdlf7LMH86cN",
        "outputId": "8fbd1542-3f68-4ab5-cd78-f3ba5f94df1e"
      },
      "outputs": [
        {
          "output_type": "stream",
          "name": "stdout",
          "text": [
            "일반 인덱스로 필터링 결과 : [6 7 8 9]\n"
          ]
        }
      ],
      "source": [
        "indexes = np.array([5,6,7,8])\n",
        "array4 = array1d[ indexes ]\n",
        "print('일반 인덱스로 필터링 결과 :',array4)"
      ]
    },
    {
      "cell_type": "markdown",
      "metadata": {
        "id": "wRxuMTQJ86cP"
      },
      "source": [
        "### 행렬의 정렬 – sort( )와 argsort( )\n",
        "\n",
        "* 행렬 정렬"
      ]
    },
    {
      "cell_type": "code",
      "execution_count": 29,
      "metadata": {
        "colab": {
          "base_uri": "https://localhost:8080/"
        },
        "id": "UVO0uQFp86cQ",
        "outputId": "a3d76d50-736f-4f63-c494-f0624ee2e56d"
      },
      "outputs": [
        {
          "output_type": "stream",
          "name": "stdout",
          "text": [
            "원본 행렬: [3 1 9 5]\n",
            "np.sort( ) 호출 후 반환된 정렬 행렬: [1 3 5 9]\n",
            "np.sort( ) 호출 후 원본 행렬: [3 1 9 5]\n",
            "org_array.sort( ) 호출 후 반환된 행렬: None\n",
            "org_array.sort( ) 호출 후 원본 행렬: [1 3 5 9]\n"
          ]
        }
      ],
      "source": [
        "org_array = np.array([ 3, 1, 9, 5]) \n",
        "print('원본 행렬:', org_array)\n",
        "# np.sort( )로 정렬 \n",
        "sort_array1 = np.sort(org_array)         \n",
        "print ('np.sort( ) 호출 후 반환된 정렬 행렬:', sort_array1) \n",
        "print('np.sort( ) 호출 후 원본 행렬:', org_array)\n",
        "# ndarray.sort( )로 정렬\n",
        "sort_array2 = org_array.sort()\n",
        "print('org_array.sort( ) 호출 후 반환된 행렬:', sort_array2)\n",
        "print('org_array.sort( ) 호출 후 원본 행렬:', org_array)\n"
      ]
    },
    {
      "cell_type": "code",
      "execution_count": 30,
      "metadata": {
        "colab": {
          "base_uri": "https://localhost:8080/"
        },
        "id": "sJfPyoWo86cR",
        "outputId": "aefedecf-1609-45d0-fdc3-6ebba50da2ac"
      },
      "outputs": [
        {
          "output_type": "stream",
          "name": "stdout",
          "text": [
            "내림차순으로 정렬: [9 5 3 1]\n"
          ]
        }
      ],
      "source": [
        "sort_array1_desc = np.sort(org_array)[::-1]\n",
        "print ('내림차순으로 정렬:', sort_array1_desc) "
      ]
    },
    {
      "cell_type": "code",
      "execution_count": 31,
      "metadata": {
        "colab": {
          "base_uri": "https://localhost:8080/"
        },
        "id": "r5SR9gui86cR",
        "outputId": "abd9d8c7-66f8-42de-9bc4-2d6ced888f80"
      },
      "outputs": [
        {
          "output_type": "stream",
          "name": "stdout",
          "text": [
            "로우 방향으로 정렬:\n",
            " [[ 7  1]\n",
            " [ 8 12]]\n",
            "컬럼 방향으로 정렬:\n",
            " [[ 8 12]\n",
            " [ 1  7]]\n"
          ]
        }
      ],
      "source": [
        "array2d = np.array([[8, 12], \n",
        "                   [7, 1 ]])\n",
        "\n",
        "sort_array2d_axis0 = np.sort(array2d, axis=0)\n",
        "print('로우 방향으로 정렬:\\n', sort_array2d_axis0)\n",
        "\n",
        "sort_array2d_axis1 = np.sort(array2d, axis=1)\n",
        "print('컬럼 방향으로 정렬:\\n', sort_array2d_axis1)"
      ]
    },
    {
      "cell_type": "markdown",
      "metadata": {
        "id": "jufdbS3d86cS"
      },
      "source": [
        "* 정렬 행렬의 인덱스 반환"
      ]
    },
    {
      "cell_type": "code",
      "execution_count": 32,
      "metadata": {
        "colab": {
          "base_uri": "https://localhost:8080/"
        },
        "id": "rf8rycE386cS",
        "outputId": "e7685b0a-2505-43ad-cec9-314d65814ebe"
      },
      "outputs": [
        {
          "output_type": "stream",
          "name": "stdout",
          "text": [
            "<class 'numpy.ndarray'>\n",
            "행렬 정렬 시 원본 행렬의 인덱스: [1 0 3 2]\n"
          ]
        }
      ],
      "source": [
        "org_array = np.array([ 3, 1, 9, 5]) \n",
        "sort_indices = np.argsort(org_array)\n",
        "print(type(sort_indices))\n",
        "print('행렬 정렬 시 원본 행렬의 인덱스:', sort_indices)"
      ]
    },
    {
      "cell_type": "code",
      "execution_count": 33,
      "metadata": {
        "colab": {
          "base_uri": "https://localhost:8080/"
        },
        "id": "7S3CopTa86cS",
        "outputId": "d19e2e47-754f-4771-e6b8-096d569d897c"
      },
      "outputs": [
        {
          "output_type": "stream",
          "name": "stdout",
          "text": [
            "행렬 내림차순 정렬 시 원본 행렬의 인덱스: [2 3 0 1]\n"
          ]
        }
      ],
      "source": [
        "org_array = np.array([ 3, 1, 9, 5]) \n",
        "sort_indices_desc = np.argsort(org_array)[::-1]\n",
        "print('행렬 내림차순 정렬 시 원본 행렬의 인덱스:', sort_indices_desc)"
      ]
    },
    {
      "cell_type": "code",
      "execution_count": 34,
      "metadata": {
        "colab": {
          "base_uri": "https://localhost:8080/"
        },
        "id": "rE1Wc28F86cT",
        "outputId": "40e4773f-a338-4413-ab70-3e342281a5bc"
      },
      "outputs": [
        {
          "output_type": "stream",
          "name": "stdout",
          "text": [
            "성적 오름차순 정렬 시 score_array의 인덱스: [0 2 4 1 3]\n",
            "성적 오름차순으로 name_array의 이름 출력: ['John' 'Sarah' 'Samuel' 'Mike' 'Kate']\n"
          ]
        }
      ],
      "source": [
        "import numpy as np\n",
        "\n",
        "name_array = np.array(['John', 'Mike', 'Sarah', 'Kate', 'Samuel'])\n",
        "score_array= np.array([78, 95, 84, 98, 88])\n",
        "\n",
        "sort_indices_asc = np.argsort(score_array)\n",
        "print('성적 오름차순 정렬 시 score_array의 인덱스:', sort_indices_asc)\n",
        "print('성적 오름차순으로 name_array의 이름 출력:', name_array[sort_indices_asc])"
      ]
    },
    {
      "cell_type": "markdown",
      "metadata": {
        "id": "wjqmt7BT86cU"
      },
      "source": [
        "### 선형대수 연산 – 행렬 내적과 전치 행렬 구하기\n",
        "\n",
        "* 행렬 내적"
      ]
    },
    {
      "cell_type": "code",
      "execution_count": 35,
      "metadata": {
        "colab": {
          "base_uri": "https://localhost:8080/"
        },
        "id": "Zy43rxek86cU",
        "outputId": "3cd73763-ca47-43ac-fd1c-22fa67c1d029"
      },
      "outputs": [
        {
          "output_type": "stream",
          "name": "stdout",
          "text": [
            "행렬 내적 결과:\n",
            " [[ 58  64]\n",
            " [139 154]]\n"
          ]
        }
      ],
      "source": [
        "A = np.array([[1, 2, 3],\n",
        "              [4, 5, 6]])\n",
        "B = np.array([[7, 8],\n",
        "              [9, 10],\n",
        "              [11, 12]])\n",
        "\n",
        "dot_product = np.dot(A, B)\n",
        "print('행렬 내적 결과:\\n', dot_product)"
      ]
    },
    {
      "cell_type": "markdown",
      "metadata": {
        "id": "MwgeZSwM86cV"
      },
      "source": [
        "* 전치 행렬"
      ]
    },
    {
      "cell_type": "code",
      "execution_count": 36,
      "metadata": {
        "colab": {
          "base_uri": "https://localhost:8080/"
        },
        "id": "Q-CaDgrz86cV",
        "outputId": "641b3247-0a06-4212-fd76-b5a1ef4eb9a2"
      },
      "outputs": [
        {
          "output_type": "stream",
          "name": "stdout",
          "text": [
            "A의 전치 행렬:\n",
            " [[1 3]\n",
            " [2 4]]\n"
          ]
        }
      ],
      "source": [
        "A = np.array([[1, 2],\n",
        "              [3, 4]])\n",
        "transpose_mat = np.transpose(A)\n",
        "print('A의 전치 행렬:\\n', transpose_mat)"
      ]
    },
    {
      "cell_type": "code",
      "execution_count": 36,
      "metadata": {
        "id": "vlwIlhv-86cW"
      },
      "outputs": [],
      "source": []
    }
  ],
  "metadata": {
    "kernelspec": {
      "display_name": "Python 3.8.2 64-bit",
      "language": "python",
      "name": "python3"
    },
    "language_info": {
      "codemirror_mode": {
        "name": "ipython",
        "version": 3
      },
      "file_extension": ".py",
      "mimetype": "text/x-python",
      "name": "python",
      "nbconvert_exporter": "python",
      "pygments_lexer": "ipython3",
      "version": "3.8.2"
    },
    "vscode": {
      "interpreter": {
        "hash": "31f2aee4e71d21fbe5cf8b01ff0e069b9275f58929596ceb00d14d90e3e16cd6"
      }
    },
    "colab": {
      "provenance": [],
      "include_colab_link": true
    }
  },
  "nbformat": 4,
  "nbformat_minor": 0
}